{
 "cells": [
  {
   "cell_type": "code",
   "execution_count": null,
   "id": "a0ed30e8",
   "metadata": {},
   "outputs": [],
   "source": []
  },
  {
   "cell_type": "code",
   "execution_count": null,
   "id": "b8103d42",
   "metadata": {},
   "outputs": [
    {
     "name": "stdout",
     "output_type": "stream",
     "text": [
      "Sending this image to the API:\n"
     ]
    },
    {
     "name": "stderr",
     "output_type": "stream",
     "text": [
      "<>:10: SyntaxWarning: invalid escape sequence '\\J'\n",
      "<>:10: SyntaxWarning: invalid escape sequence '\\J'\n",
      "C:\\Users\\fpsju\\AppData\\Local\\Temp\\ipykernel_40632\\1878202813.py:10: SyntaxWarning: invalid escape sequence '\\J'\n",
      "  IMAGE_PATH = \"J:\\Julio Data\\pruebinha.jpg\"\n"
     ]
    },
    {
     "data": {
      "image/jpeg": "[encoded data removed]",
      "text/plain": [
       "<IPython.core.display.Image object>"
      ]
     },
     "metadata": {
      "image/jpeg": {
       "width": 400
      }
     },
     "output_type": "display_data"
    },
    {
     "name": "stdout",
     "output_type": "stream",
     "text": [
      "\n",
      "❌ Error: Received status code 500\n",
      "Response Text: Internal Server Error\n"
     ]
    }
   ],
   "source": [
    "import requests\n",
    "import json\n",
    "from IPython.display import Image as IPImage # To display the image in the notebook\n",
    "\n",
    "# --- Configuration ---\n",
    "# This is your live API URL\n",
    "API_URL = \"https://sera-perrosalchicha-o-no.onrender.com/predict\" \n",
    "\n",
    "# ❗ IMPORTANT: Change this to the path of an image on your PC\n",
    "# New line with forward slashes\n",
    "IMAGE_PATH = \"J:/Julio Data/pruebinha.jpg\"\n",
    "\n",
    "# --- Optional: Display the image you're sending ---\n",
    "print(f\"Sending this image to the API:\")\n",
    "display(IPImage(filename=IMAGE_PATH, width=400))\n",
    "\n",
    "\n",
    "# --- Send the Request ---\n",
    "try:\n",
    "    # Open the image file in binary read mode\n",
    "    with open(IMAGE_PATH, \"rb\") as image_file:\n",
    "        files = {\"file\": (IMAGE_PATH, image_file, \"image/jpeg\")}\n",
    "        response = requests.post(API_URL, files=files)\n",
    "\n",
    "    # --- Process the Response ---\n",
    "    if response.status_code == 200:\n",
    "        print(\"\\n✅ Success! API returned the following detections:\")\n",
    "        detections = response.json()\n",
    "        # Pretty-print the JSON response\n",
    "        print(json.dumps(detections, indent=2))\n",
    "    else:\n",
    "        print(f\"\\n❌ Error: Received status code {response.status_code}\")\n",
    "        print(\"Response Text:\", response.text)\n",
    "\n",
    "except FileNotFoundError:\n",
    "    print(f\"❌ Error: The file was not found at {IMAGE_PATH}\")\n",
    "except requests.exceptions.RequestException as e:\n",
    "    print(f\"❌ Error: A connection error occurred: {e}\")"
   ]
  }
 ],
 "metadata": {
  "kernelspec": {
   "display_name": "Python 3",
   "language": "python",
   "name": "python3"
  },
  "language_info": {
   "codemirror_mode": {
    "name": "ipython",
    "version": 3
   },
   "file_extension": ".py",
   "mimetype": "text/x-python",
   "name": "python",
   "nbconvert_exporter": "python",
   "pygments_lexer": "ipython3",
   "version": "3.13.0"
  }
 },
 "nbformat": 4,
 "nbformat_minor": 5
}
